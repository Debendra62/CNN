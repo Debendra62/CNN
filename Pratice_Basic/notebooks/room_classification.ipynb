{
 "cells": [
  {
   "cell_type": "code",
   "execution_count": 1,
   "metadata": {},
   "outputs": [],
   "source": [
    "# Import Libraries\n",
    "import os\n",
    "\n",
    "import pandas as pd\n",
    "import numpy as np\n",
    "\n",
    "import seaborn as sns\n",
    "import matplotlib.pyplot as plt\n",
    "%matplotlib inline\n",
    "import cv2\n",
    "\n",
    "from sklearn.preprocessing import LabelEncoder,OneHotEncoder\n",
    "from sklearn.compose import ColumnTransformer\n",
    "from sklearn.utils import shuffle\n",
    "from sklearn.model_selection import train_test_split"
   ]
  },
  {
   "cell_type": "code",
   "execution_count": 2,
   "metadata": {},
   "outputs": [
    {
     "data": {
      "text/plain": [
       "['bed_room', 'dining_room', 'living_room']"
      ]
     },
     "execution_count": 2,
     "metadata": {},
     "output_type": "execute_result"
    }
   ],
   "source": [
    "room_types = os.listdir('../dataset/')\n",
    "room_types"
   ]
  },
  {
   "cell_type": "code",
   "execution_count": 3,
   "metadata": {},
   "outputs": [
    {
     "name": "stdout",
     "output_type": "stream",
     "text": [
      "bed_room \n",
      " ['bed-1303451__340.jpg', 'bed-1846251__340.jpg', 'bed-3786264__340.jpg', 'bed-4065946__340.jpg', 'bed-4343379__340.jpg', 'bed-4343382__340.jpg', 'bed-4540208__340.jpg', 'bedroom-3102376__340.jpg', 'bedroom-374982__340.jpg', 'bedroom-4072391__340 (1).jpg', 'bedroom-460762__340.jpg', 'bedroom-690129__340.jpg']\n",
      "dining_room \n",
      " ['apartment-185778__340.jpg', 'apartment-185779__340.jpg', 'apartment-2094648__340.jpg', 'architectural-224242__340.jpg', 'architecture-3214528__340.jpg', 'cafeteria-544871__340.jpg', 'candles-126159__340.jpg', 'centerpiece-714019__340.jpg', 'chair-3306118__340.jpg', 'chair-3321246__340.jpg', 'dining-2112653__340.jpg']\n",
      "living_room \n",
      " ['couch-1835923__340.jpg', 'dining-room-332207__340.jpg', 'furniture-998265__340.jpg', 'house-2563735__340.jpg', 'interior-2685521__340.jpg', 'kitchen-2165756__340.jpg', 'kitchen-3690727__340.jpg', 'kitchen-living-room-4043091__340.jpg', 'living-living-room-1644496__340.jpg', 'living-room-1048191__340.jpg', 'living-room-1523480__340.jpg', 'living-room-2037945__340.jpg', 'living-room-2155376__340.jpg', 'living-room-2569325__340.jpg', 'living-room-2732939__340.jpg', 'living-room-3164434__340.jpg', 'living-room-670240__340.jpg', 'living-room-690174__340.jpg', 'living-room-728732__340.jpg', 'pexels-photo-245208.jpeg', 'pexels-photo-275484.jpeg', 'pexels-photo-276583.jpeg', 'pexels-photo-276724.jpeg', 'pexels-photo-279719.jpeg']\n"
     ]
    },
    {
     "data": {
      "text/plain": [
       "[('bed_room', '../dataset/bed_room/bed-1303451__340.jpg'),\n",
       " ('bed_room', '../dataset/bed_room/bed-1846251__340.jpg'),\n",
       " ('bed_room', '../dataset/bed_room/bed-3786264__340.jpg'),\n",
       " ('bed_room', '../dataset/bed_room/bed-4065946__340.jpg'),\n",
       " ('bed_room', '../dataset/bed_room/bed-4343379__340.jpg')]"
      ]
     },
     "execution_count": 3,
     "metadata": {},
     "output_type": "execute_result"
    }
   ],
   "source": [
    "rooms=[]\n",
    "for room_type in room_types:\n",
    "    all_room_type=os.listdir('../dataset/'+room_type)\n",
    "    print(f'{room_type} \\n {all_room_type}')\n",
    "    for room in all_room_type:\n",
    "        rooms.append((room_type,str(\"../dataset/\"+room_type)+\"/\"+room))\n",
    "rooms[:5]"
   ]
  },
  {
   "cell_type": "code",
   "execution_count": 4,
   "metadata": {},
   "outputs": [
    {
     "data": {
      "text/plain": [
       "'../dataset/living_room'"
      ]
     },
     "execution_count": 4,
     "metadata": {},
     "output_type": "execute_result"
    }
   ],
   "source": [
    "str(\"../dataset/\"+room_type)"
   ]
  },
  {
   "cell_type": "code",
   "execution_count": 5,
   "metadata": {},
   "outputs": [
    {
     "data": {
      "text/html": [
       "<div>\n",
       "<style scoped>\n",
       "    .dataframe tbody tr th:only-of-type {\n",
       "        vertical-align: middle;\n",
       "    }\n",
       "\n",
       "    .dataframe tbody tr th {\n",
       "        vertical-align: top;\n",
       "    }\n",
       "\n",
       "    .dataframe thead th {\n",
       "        text-align: right;\n",
       "    }\n",
       "</style>\n",
       "<table border=\"1\" class=\"dataframe\">\n",
       "  <thead>\n",
       "    <tr style=\"text-align: right;\">\n",
       "      <th></th>\n",
       "      <th>room_types</th>\n",
       "      <th>room_image</th>\n",
       "    </tr>\n",
       "  </thead>\n",
       "  <tbody>\n",
       "    <tr>\n",
       "      <th>0</th>\n",
       "      <td>bed_room</td>\n",
       "      <td>../dataset/bed_room/bed-1303451__340.jpg</td>\n",
       "    </tr>\n",
       "    <tr>\n",
       "      <th>1</th>\n",
       "      <td>bed_room</td>\n",
       "      <td>../dataset/bed_room/bed-1846251__340.jpg</td>\n",
       "    </tr>\n",
       "    <tr>\n",
       "      <th>2</th>\n",
       "      <td>bed_room</td>\n",
       "      <td>../dataset/bed_room/bed-3786264__340.jpg</td>\n",
       "    </tr>\n",
       "    <tr>\n",
       "      <th>3</th>\n",
       "      <td>bed_room</td>\n",
       "      <td>../dataset/bed_room/bed-4065946__340.jpg</td>\n",
       "    </tr>\n",
       "    <tr>\n",
       "      <th>4</th>\n",
       "      <td>bed_room</td>\n",
       "      <td>../dataset/bed_room/bed-4343379__340.jpg</td>\n",
       "    </tr>\n",
       "  </tbody>\n",
       "</table>\n",
       "</div>"
      ],
      "text/plain": [
       "  room_types                                room_image\n",
       "0   bed_room  ../dataset/bed_room/bed-1303451__340.jpg\n",
       "1   bed_room  ../dataset/bed_room/bed-1846251__340.jpg\n",
       "2   bed_room  ../dataset/bed_room/bed-3786264__340.jpg\n",
       "3   bed_room  ../dataset/bed_room/bed-4065946__340.jpg\n",
       "4   bed_room  ../dataset/bed_room/bed-4343379__340.jpg"
      ]
     },
     "execution_count": 5,
     "metadata": {},
     "output_type": "execute_result"
    }
   ],
   "source": [
    "# convert to df\n",
    "df=pd.DataFrame(data=rooms, columns=[\"room_types\",\"room_image\"])\n",
    "df.head()"
   ]
  },
  {
   "cell_type": "code",
   "execution_count": 6,
   "metadata": {},
   "outputs": [
    {
     "data": {
      "text/plain": [
       "47"
      ]
     },
     "execution_count": 6,
     "metadata": {},
     "output_type": "execute_result"
    }
   ],
   "source": [
    "total_room=len(df)\n",
    "total_room"
   ]
  },
  {
   "cell_type": "code",
   "execution_count": 7,
   "metadata": {},
   "outputs": [
    {
     "data": {
      "text/plain": [
       "<Axes: xlabel='room_types', ylabel='count'>"
      ]
     },
     "execution_count": 7,
     "metadata": {},
     "output_type": "execute_result"
    },
    {
     "data": {
      "image/png": "[encoded data removed]",
      "text/plain": [
       "<Figure size 640x480 with 1 Axes>"
      ]
     },
     "metadata": {},
     "output_type": "display_data"
    }
   ],
   "source": [
    "sns.countplot(x=df['room_types'])"
   ]
  },
  {
   "cell_type": "code",
   "execution_count": 8,
   "metadata": {},
   "outputs": [
    {
     "data": {
      "text/plain": [
       "room_types\n",
       "living_room    24\n",
       "bed_room       12\n",
       "dining_room    11\n",
       "Name: count, dtype: int64"
      ]
     },
     "execution_count": 8,
     "metadata": {},
     "output_type": "execute_result"
    }
   ],
   "source": [
    "df['room_types'].value_counts()\n"
   ]
  },
  {
   "cell_type": "code",
   "execution_count": 9,
   "metadata": {},
   "outputs": [],
   "source": [
    "image=cv2.imread(\"../dataset/bed_room/bed-1303451__340.jpg\")\n",
    "cv2.imshow('bed_room', image)\n",
    "cv2.waitKey(0)\n",
    "cv2.destroyAllWindows()"
   ]
  },
  {
   "cell_type": "code",
   "execution_count": 10,
   "metadata": {},
   "outputs": [
    {
     "data": {
      "text/plain": [
       "(340, 604, 3)"
      ]
     },
     "execution_count": 10,
     "metadata": {},
     "output_type": "execute_result"
    }
   ],
   "source": [
    "image.shape"
   ]
  },
  {
   "cell_type": "code",
   "execution_count": 11,
   "metadata": {},
   "outputs": [
    {
     "name": "stdout",
     "output_type": "stream",
     "text": [
      "['bed-1303451__340.jpg', 'bed-1846251__340.jpg', 'bed-3786264__340.jpg', 'bed-4065946__340.jpg', 'bed-4343379__340.jpg', 'bed-4343382__340.jpg', 'bed-4540208__340.jpg', 'bedroom-3102376__340.jpg', 'bedroom-374982__340.jpg', 'bedroom-4072391__340 (1).jpg', 'bedroom-460762__340.jpg', 'bedroom-690129__340.jpg']\n",
      "['apartment-185778__340.jpg', 'apartment-185779__340.jpg', 'apartment-2094648__340.jpg', 'architectural-224242__340.jpg', 'architecture-3214528__340.jpg', 'cafeteria-544871__340.jpg', 'candles-126159__340.jpg', 'centerpiece-714019__340.jpg', 'chair-3306118__340.jpg', 'chair-3321246__340.jpg', 'dining-2112653__340.jpg']\n",
      "['couch-1835923__340.jpg', 'dining-room-332207__340.jpg', 'furniture-998265__340.jpg', 'house-2563735__340.jpg', 'interior-2685521__340.jpg', 'kitchen-2165756__340.jpg', 'kitchen-3690727__340.jpg', 'kitchen-living-room-4043091__340.jpg', 'living-living-room-1644496__340.jpg', 'living-room-1048191__340.jpg', 'living-room-1523480__340.jpg', 'living-room-2037945__340.jpg', 'living-room-2155376__340.jpg', 'living-room-2569325__340.jpg', 'living-room-2732939__340.jpg', 'living-room-3164434__340.jpg', 'living-room-670240__340.jpg', 'living-room-690174__340.jpg', 'living-room-728732__340.jpg', 'pexels-photo-245208.jpeg', 'pexels-photo-275484.jpeg', 'pexels-photo-276583.jpeg', 'pexels-photo-276724.jpeg', 'pexels-photo-279719.jpeg']\n"
     ]
    }
   ],
   "source": [
    "path=\"../dataset/\"\n",
    "img_size= 60\n",
    "\n",
    "images=[]\n",
    "labels=[]\n",
    "\n",
    "for i in room_types:\n",
    "    data_path=path + str(i)\n",
    "    filenames = [i for i in os.listdir(data_path)]\n",
    "    print(filenames)\n",
    "    for f in filenames:\n",
    "        img = cv2.imread(data_path + '/' + f)\n",
    "        img = cv2.resize(img, (img_size, img_size))\n",
    "        images.append(img)\n",
    "        labels.append(i)\n"
   ]
  },
  {
   "cell_type": "code",
   "execution_count": 12,
   "metadata": {},
   "outputs": [
    {
     "data": {
      "text/plain": [
       "(60, 60, 3)"
      ]
     },
     "execution_count": 12,
     "metadata": {},
     "output_type": "execute_result"
    }
   ],
   "source": [
    "images[0].shape"
   ]
  },
  {
   "cell_type": "code",
   "execution_count": 13,
   "metadata": {},
   "outputs": [
    {
     "data": {
      "text/plain": [
       "array([[[ 55,  62,  65],\n",
       "        [ 75,  88,  96],\n",
       "        [ 79,  92, 100],\n",
       "        ...,\n",
       "        [ 50,  50,  50],\n",
       "        [ 11,  11,  11],\n",
       "        [ 50,  51,  51]],\n",
       "\n",
       "       [[ 55,  64,  68],\n",
       "        [ 74,  89,  98],\n",
       "        [ 77,  89,  99],\n",
       "        ...,\n",
       "        [ 53,  53,  53],\n",
       "        [ 29,  29,  29],\n",
       "        [ 42,  42,  42]],\n",
       "\n",
       "       [[ 56,  66,  73],\n",
       "        [ 69,  86,  96],\n",
       "        [ 64,  78,  84],\n",
       "        ...,\n",
       "        [ 44,  44,  44],\n",
       "        [ 63,  63,  63],\n",
       "        [ 21,  19,  19]],\n",
       "\n",
       "       ...,\n",
       "\n",
       "       [[ 12,  11,  13],\n",
       "        [ 14,  13,  15],\n",
       "        [ 52,  51,  53],\n",
       "        ...,\n",
       "        [170, 173, 171],\n",
       "        [225, 231, 232],\n",
       "        [230, 243, 244]],\n",
       "\n",
       "       [[ 15,  14,  16],\n",
       "        [ 13,  12,  14],\n",
       "        [ 38,  37,  39],\n",
       "        ...,\n",
       "        [183, 184, 182],\n",
       "        [243, 248, 249],\n",
       "        [251, 255, 255]],\n",
       "\n",
       "       [[ 12,  12,  12],\n",
       "        [ 10,  10,  10],\n",
       "        [ 17,  16,  18],\n",
       "        ...,\n",
       "        [172, 172, 172],\n",
       "        [249, 253, 253],\n",
       "        [255, 255, 255]]], dtype=uint8)"
      ]
     },
     "execution_count": 13,
     "metadata": {},
     "output_type": "execute_result"
    }
   ],
   "source": [
    "images[0]"
   ]
  },
  {
   "cell_type": "code",
   "execution_count": 14,
   "metadata": {},
   "outputs": [
    {
     "data": {
      "text/plain": [
       "(47, 60, 60, 3)"
      ]
     },
     "execution_count": 14,
     "metadata": {},
     "output_type": "execute_result"
    }
   ],
   "source": [
    "# Transfer image array to a np type\n",
    "\n",
    "images=np.array(images)\n",
    "images.shape"
   ]
  },
  {
   "cell_type": "code",
   "execution_count": 15,
   "metadata": {},
   "outputs": [
    {
     "name": "stdout",
     "output_type": "stream",
     "text": [
      "['bed_room' 'bed_room' 'bed_room' 'bed_room' 'bed_room']\n"
     ]
    }
   ],
   "source": [
    "y=df['room_types'].values\n",
    "\n",
    "print(y[:5])"
   ]
  },
  {
   "cell_type": "code",
   "execution_count": 16,
   "metadata": {},
   "outputs": [
    {
     "name": "stdout",
     "output_type": "stream",
     "text": [
      "[0 0 0 0 0 0 0 0 0 0 0 0 1 1 1 1 1 1 1 1 1 1 1 2 2 2 2 2 2 2 2 2 2 2 2 2 2\n",
      " 2 2 2 2 2 2 2 2 2 2]\n"
     ]
    }
   ],
   "source": [
    "y_labelencoder = LabelEncoder()\n",
    "y = y_labelencoder.fit_transform(y)\n",
    "print(y)"
   ]
  },
  {
   "cell_type": "code",
   "execution_count": 17,
   "metadata": {},
   "outputs": [
    {
     "data": {
      "text/plain": [
       "(47, 3)"
      ]
     },
     "execution_count": 17,
     "metadata": {},
     "output_type": "execute_result"
    }
   ],
   "source": [
    "y = y.reshape(-1,1)\n",
    "ct = ColumnTransformer([(\"room_type\", OneHotEncoder(), [0])], remainder = 'passthrough')\n",
    "Y = ct.fit_transform(y)\n",
    "Y.shape"
   ]
  },
  {
   "cell_type": "code",
   "execution_count": 18,
   "metadata": {},
   "outputs": [
    {
     "name": "stdout",
     "output_type": "stream",
     "text": [
      "(42, 60, 60, 3)\n",
      "(42, 3)\n",
      "(5, 60, 60, 3)\n",
      "(5, 3)\n"
     ]
    }
   ],
   "source": [
    "# Split dataset\n",
    "\n",
    "images, Y = shuffle(images, Y, random_state=42)\n",
    "\n",
    "train_x, test_x, train_y, test_y = train_test_split(images, Y, test_size=0.1, random_state=1)\n",
    "\n",
    "print(train_x.shape)\n",
    "print(train_y.shape)\n",
    "print(test_x.shape)\n",
    "print(test_y.shape)"
   ]
  },
  {
   "cell_type": "code",
   "execution_count": 19,
   "metadata": {},
   "outputs": [
    {
     "name": "stdout",
     "output_type": "stream",
     "text": [
      "[[[[237 233 224]\n",
      "   [220 214 190]\n",
      "   [192 189 160]\n",
      "   ...\n",
      "   [239 236 228]\n",
      "   [240 234 227]\n",
      "   [239 234 229]]\n",
      "\n",
      "  [[236 228 222]\n",
      "   [226 224 200]\n",
      "   [228 223 199]\n",
      "   ...\n",
      "   [238 235 227]\n",
      "   [241 235 228]\n",
      "   [236 230 225]]\n",
      "\n",
      "  [[238 228 223]\n",
      "   [226 226 203]\n",
      "   [233 226 205]\n",
      "   ...\n",
      "   [237 234 226]\n",
      "   [236 230 223]\n",
      "   [213 214 217]]\n",
      "\n",
      "  ...\n",
      "\n",
      "  [[ 18  21  26]\n",
      "   [ 17  20  25]\n",
      "   [ 18  21  25]\n",
      "   ...\n",
      "   [ 55  58  77]\n",
      "   [ 50  54  72]\n",
      "   [ 48  52  70]]\n",
      "\n",
      "  [[ 18  21  25]\n",
      "   [ 16  19  23]\n",
      "   [ 18  21  25]\n",
      "   ...\n",
      "   [ 54  58  77]\n",
      "   [ 57  61  79]\n",
      "   [ 51  55  74]]\n",
      "\n",
      "  [[ 18  21  25]\n",
      "   [ 16  19  23]\n",
      "   [ 15  18  22]\n",
      "   ...\n",
      "   [ 59  63  81]\n",
      "   [ 48  52  70]\n",
      "   [ 52  57  75]]]\n",
      "\n",
      "\n",
      " [[[114 130 146]\n",
      "   [118 139 157]\n",
      "   [125 150 166]\n",
      "   ...\n",
      "   [178 181 179]\n",
      "   [174 176 176]\n",
      "   [170 172 172]]\n",
      "\n",
      "  [[130 149 162]\n",
      "   [119 138 151]\n",
      "   [123 142 157]\n",
      "   ...\n",
      "   [176 179 177]\n",
      "   [171 176 175]\n",
      "   [169 174 173]]\n",
      "\n",
      "  [[130 150 169]\n",
      "   [137 153 169]\n",
      "   [137 156 171]\n",
      "   ...\n",
      "   [176 179 177]\n",
      "   [170 176 175]\n",
      "   [166 172 171]]\n",
      "\n",
      "  ...\n",
      "\n",
      "  [[ 72  92 110]\n",
      "   [ 74  91 110]\n",
      "   [ 68  83 101]\n",
      "   ...\n",
      "   [ 89 106 125]\n",
      "   [ 80  96 115]\n",
      "   [ 46  62  79]]\n",
      "\n",
      "  [[ 73  95 113]\n",
      "   [ 69  89 107]\n",
      "   [ 81  97 114]\n",
      "   ...\n",
      "   [ 94 110 127]\n",
      "   [ 78  94 111]\n",
      "   [ 67  84 103]]\n",
      "\n",
      "  [[ 69  93 111]\n",
      "   [ 75  95 113]\n",
      "   [ 82  99 118]\n",
      "   ...\n",
      "   [ 89 104 123]\n",
      "   [ 72  89 107]\n",
      "   [ 58  76  94]]]\n",
      "\n",
      "\n",
      " [[[249 210 172]\n",
      "   [250 211 173]\n",
      "   [251 212 174]\n",
      "   ...\n",
      "   [ 38  73  68]\n",
      "   [ 45  81  81]\n",
      "   [ 39  83  89]]\n",
      "\n",
      "  [[248 211 173]\n",
      "   [249 212 174]\n",
      "   [251 214 176]\n",
      "   ...\n",
      "   [ 19  34  32]\n",
      "   [ 14  35  42]\n",
      "   [ 57  85  79]]\n",
      "\n",
      "  [[249 212 174]\n",
      "   [250 213 175]\n",
      "   [251 214 176]\n",
      "   ...\n",
      "   [ 34  45  44]\n",
      "   [ 22  30  30]\n",
      "   [ 51  90  93]]\n",
      "\n",
      "  ...\n",
      "\n",
      "  [[  9  11  21]\n",
      "   [ 15  33  71]\n",
      "   [ 21  21  36]\n",
      "   ...\n",
      "   [ 96 119 141]\n",
      "   [ 88 115 134]\n",
      "   [ 90 117 136]]\n",
      "\n",
      "  [[ 10  13  18]\n",
      "   [ 20  41  86]\n",
      "   [ 20  38  66]\n",
      "   ...\n",
      "   [ 87  82  91]\n",
      "   [ 78  75  84]\n",
      "   [ 47  44  53]]\n",
      "\n",
      "  [[ 12  14  18]\n",
      "   [ 20  26  39]\n",
      "   [ 24  44  90]\n",
      "   ...\n",
      "   [ 79  74  75]\n",
      "   [ 71  66  68]\n",
      "   [ 68  63  65]]]\n",
      "\n",
      "\n",
      " ...\n",
      "\n",
      "\n",
      " [[[  1   3   4]\n",
      "   [  3   5   6]\n",
      "   [  3   8   9]\n",
      "   ...\n",
      "   [ 94 131 159]\n",
      "   [ 93 132 160]\n",
      "   [ 93 133 162]]\n",
      "\n",
      "  [[  0   2   3]\n",
      "   [  1   3   4]\n",
      "   [  1   4   8]\n",
      "   ...\n",
      "   [ 96 133 159]\n",
      "   [ 97 137 162]\n",
      "   [ 96 136 164]]\n",
      "\n",
      "  [[  0   0   1]\n",
      "   [  0   2   3]\n",
      "   [  1   3   6]\n",
      "   ...\n",
      "   [ 97 134 159]\n",
      "   [ 97 137 161]\n",
      "   [ 97 137 165]]\n",
      "\n",
      "  ...\n",
      "\n",
      "  [[ 11  14  18]\n",
      "   [  1   2   7]\n",
      "   [ 13  17  22]\n",
      "   ...\n",
      "   [  0   0   0]\n",
      "   [  0   0   0]\n",
      "   [  0   0   0]]\n",
      "\n",
      "  [[  4   7  11]\n",
      "   [  2   3   7]\n",
      "   [ 21  25  30]\n",
      "   ...\n",
      "   [  0   0   0]\n",
      "   [  0   0   0]\n",
      "   [  0   0   0]]\n",
      "\n",
      "  [[  2   3   6]\n",
      "   [ 10  13  18]\n",
      "   [  7  10  16]\n",
      "   ...\n",
      "   [  0   0   0]\n",
      "   [  0   0   0]\n",
      "   [  0   0   0]]]\n",
      "\n",
      "\n",
      " [[[225 225 225]\n",
      "   [229 229 229]\n",
      "   [230 232 232]\n",
      "   ...\n",
      "   [232 234 235]\n",
      "   [229 231 232]\n",
      "   [227 229 230]]\n",
      "\n",
      "  [[228 228 228]\n",
      "   [231 231 231]\n",
      "   [231 233 233]\n",
      "   ...\n",
      "   [232 234 235]\n",
      "   [231 233 234]\n",
      "   [230 232 233]]\n",
      "\n",
      "  [[230 230 230]\n",
      "   [233 233 233]\n",
      "   [233 235 235]\n",
      "   ...\n",
      "   [232 234 235]\n",
      "   [231 233 234]\n",
      "   [230 231 232]]\n",
      "\n",
      "  ...\n",
      "\n",
      "  [[202 208 215]\n",
      "   [192 198 205]\n",
      "   [209 217 224]\n",
      "   ...\n",
      "   [205 214 224]\n",
      "   [204 213 226]\n",
      "   [193 205 218]]\n",
      "\n",
      "  [[196 199 206]\n",
      "   [205 214 221]\n",
      "   [ 86  95 115]\n",
      "   ...\n",
      "   [207 216 227]\n",
      "   [203 212 226]\n",
      "   [199 208 222]]\n",
      "\n",
      "  [[203 210 215]\n",
      "   [104 114 139]\n",
      "   [106 119 146]\n",
      "   ...\n",
      "   [203 212 225]\n",
      "   [189 198 211]\n",
      "   [197 206 220]]]\n",
      "\n",
      "\n",
      " [[[ 55  62  75]\n",
      "   [ 51  58  74]\n",
      "   [ 53  53  69]\n",
      "   ...\n",
      "   [ 58  79  94]\n",
      "   [ 55  77  89]\n",
      "   [ 53  76  91]]\n",
      "\n",
      "  [[109  85  95]\n",
      "   [102  80  92]\n",
      "   [ 82  68  82]\n",
      "   ...\n",
      "   [ 57  80  96]\n",
      "   [ 59  82  97]\n",
      "   [ 61  80  95]]\n",
      "\n",
      "  [[251 254 252]\n",
      "   [251 255 254]\n",
      "   [253 254 254]\n",
      "   ...\n",
      "   [ 60  84 102]\n",
      "   [ 59  83  99]\n",
      "   [ 59  80  95]]\n",
      "\n",
      "  ...\n",
      "\n",
      "  [[ 60  76  82]\n",
      "   [ 71  86  92]\n",
      "   [ 64  79  85]\n",
      "   ...\n",
      "   [ 20  27  36]\n",
      "   [ 18  25  34]\n",
      "   [ 20  27  34]]\n",
      "\n",
      "  [[ 63  77  83]\n",
      "   [ 65  79  85]\n",
      "   [ 63  77  83]\n",
      "   ...\n",
      "   [ 17  24  33]\n",
      "   [ 20  27  36]\n",
      "   [ 20  28  35]]\n",
      "\n",
      "  [[ 57  72  75]\n",
      "   [ 57  69  75]\n",
      "   [ 57  71  77]\n",
      "   ...\n",
      "   [ 16  24  31]\n",
      "   [ 17  25  32]\n",
      "   [ 19  27  34]]]]\n"
     ]
    }
   ],
   "source": [
    "print(train_x)"
   ]
  },
  {
   "cell_type": "code",
   "execution_count": null,
   "metadata": {},
   "outputs": [],
   "source": []
  }
 ],
 "metadata": {
  "kernelspec": {
   "display_name": "Python 3 (ipykernel)",
   "language": "python",
   "name": "python3"
  },
  "language_info": {
   "codemirror_mode": {
    "name": "ipython",
    "version": 3
   },
   "file_extension": ".py",
   "mimetype": "text/x-python",
   "name": "python",
   "nbconvert_exporter": "python",
   "pygments_lexer": "ipython3",
   "version": "3.11.4"
  }
 },
 "nbformat": 4,
 "nbformat_minor": 4
}
